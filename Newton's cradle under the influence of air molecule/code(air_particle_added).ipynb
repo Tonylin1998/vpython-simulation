{
 "cells": [
  {
   "cell_type": "markdown",
   "metadata": {},
   "source": [
    "# GROUP 09 FINAL PROJECT CODE\n",
    "## This is the code of Newton's Cradle simulation with air particle considered."
   ]
  },
  {
   "cell_type": "markdown",
   "metadata": {},
   "source": [
    "Import needed stuffs."
   ]
  },
  {
   "cell_type": "code",
   "execution_count": null,
   "metadata": {
    "collapsed": true
   },
   "outputs": [],
   "source": [
    "from vpython import *\n",
    "from random import random\n",
    "import numpy as np "
   ]
  },
  {
   "cell_type": "markdown",
   "metadata": {},
   "source": [
    "Define constant."
   ]
  },
  {
   "cell_type": "code",
   "execution_count": null,
   "metadata": {
    "collapsed": true
   },
   "outputs": [],
   "source": [
    "#const.\n",
    "g= vector(0,-9.8,0)\n",
    "[k,r]=[1E5,1.0]\n",
    "d=0.1\n",
    "number=1\n",
    "theta=pi/6\n",
    "num=2\n",
    "\n",
    "t = 0\n",
    "dt=0.001\n"
   ]
  },
  {
   "cell_type": "markdown",
   "metadata": {
    "collapsed": true
   },
   "source": [
    "Create scene and graph."
   ]
  },
  {
   "cell_type": "code",
   "execution_count": null,
   "metadata": {
    "collapsed": true
   },
   "outputs": [],
   "source": [
    "#scene\n",
    "scene=display(width=800,height=800,center=vector(-5*d,r/2,0), background=(0.9,0.9,0.9))"
   ]
  },
  {
   "cell_type": "code",
   "execution_count": null,
   "metadata": {
    "collapsed": true
   },
   "outputs": [],
   "source": [
    "#graph\n",
    "gy=graph(width=500,height=300,align='left', ytitle='Height')\n",
    "gy0=gcurve(graph=gy,color=color.blue, dot=True)\n",
    "gy1=gcurve(graph=gy,color=color.red, dot=True)\n",
    "\n",
    "gEk=graph(width=500,height=300,align='left', ytitle='Kinetic Energy')\n",
    "gEk0=gcurve(graph=gEk,color=color.blue, dot=True)\n",
    "gEk1=gcurve(graph=gEk,color=color.red, dot=True)\n",
    "\n",
    "gUg=graph(width=500,height=300,align='left', ytitle='Potential Energy')\n",
    "gUg0=gcurve(graph=gUg,color=color.blue, dot=True)\n",
    "gUg1=gcurve(graph=gUg,color=color.red, dot=True)\n",
    "\n",
    "gE=graph(width=500,height=300,align='left', ytitle='Total Energy')\n",
    "gE0=gcurve(graph=gE,color=color.blue, dot=True)\n",
    "gE1=gcurve(graph=gE,color=color.red, dot=True)\n",
    "gEt=gcurve(graph=gE,color=color.orange, dot=True)\n"
   ]
  },
  {
   "cell_type": "markdown",
   "metadata": {},
   "source": [
    "Create objects and particles."
   ]
  },
  {
   "cell_type": "code",
   "execution_count": null,
   "metadata": {
    "collapsed": true
   },
   "outputs": [],
   "source": [
    "#create objects\n",
    "ceiling=box(length=10*d, width=3*d, height=0.01, pos=vector(-5*d,r,0), color=color.blue)\n",
    "ball=[]\n",
    "string=[]\n",
    "wallR = box(pos=vector(-5*d,r+0.5*d,0), size=vector(21*d, 0.2*d, 0.2*d), color=color.green)\n",
    "wall1 = box(pos=vector(-15.7*d,0.46*r,0), size=vector(0.2*d, 1.2*r, 0.2*d), color=color.green)\n",
    "wallL = box(pos=vector(-5*d,-1.2*d,0), size=vector(21*d, 0.2*d, 0.2*d), color=color.green)\n",
    "wall2 = box(pos=vector(5.7*d,0.46*r,0), size=vector(0.2*d, 1.2*r, 0.2*d), color=color.green)\n",
    "for i in arange(num):\n",
    "    ball.append(sphere(radius=d,pos=vector(-d-i*2*d,0,0),color=color.red))\n",
    "    string.append(cylinder(radius=0.005,pos=vec(-d-i*2*d,r,0),axis=vector(0,-r,0)))\n",
    "    ball[i].v=vector(0,0,0)\n",
    "    ball[i].m=1\n",
    "\n",
    "ball[0].m=1\n",
    "ball[0].color = color.blue\n",
    "ball[1].color = color.red\n"
   ]
  },
  {
   "cell_type": "code",
   "execution_count": null,
   "metadata": {
    "collapsed": true
   },
   "outputs": [],
   "source": [
    "#create particles\n",
    "N = 200      \n",
    "L = ((22.4E-3/(6E23))*N)**(1/3.0)/2     \n",
    "ballsize = 1E-2        \n",
    "T = 273.15       \n",
    "t = 0\n",
    "atoms = []        \n",
    "vatoms = []\n",
    "matoms = 0.0004    #28.8/6E23            #重量是重點，可改變去尋找最佳\n",
    "momentum, vrms =0, (3*k*T/matoms)**0.5  \n",
    "\n",
    "for i in range(N):              \n",
    "    position = vector(-15.7*d*random()+5.7*d*random(),r*random()-0.5*d*random(),0)\n",
    "    atom = sphere(pos=position, radius = ballsize, color=vector(random(), random(), random()))\n",
    "    atomv = vector(2E-2*random() -2E-2*random(), 2E-2*random()-2E-2*random(), 0) \n",
    "    atoms.append(atom)\n",
    "    vatoms.append(atomv)\n"
   ]
  },
  {
   "cell_type": "markdown",
   "metadata": {},
   "source": [
    "Define physical functions."
   ]
  },
  {
   "cell_type": "code",
   "execution_count": null,
   "metadata": {
    "collapsed": true
   },
   "outputs": [],
   "source": [
    "#define collision and force function\n",
    "def newcollision(v1,v2,m1,m2,p1,p2,dis):\n",
    "    disx=p2.x-p1.x\n",
    "    disy=p2.y-p1.y\n",
    "    adis=sqrt(disx**2+disy**2)\n",
    "    axdis=dis*disx/adis\n",
    "    aydis=dis*disy/adis\n",
    "    ax = axdis/dis\n",
    "    ay = aydis/dis\n",
    "    vx1=v1.x*ax+v1.y*ay\n",
    "    vy1=-v1.x*ay+v1.y*ax\n",
    "    vx2=v2.x*ax+v2.y*ay\n",
    "    vy2=-v2.x*ay+v2.y*ax\n",
    "    v1prime = vx1 + (2)*(vx2-vx1)/(1+m1/m2)\n",
    "    v2prime = vx2 + (2)*(vx1-vx2)/(1+m2/m1)\n",
    "    v1final = vector(v1prime*ax-vy1*ay,v1prime*ay+vy1*ax,0)\n",
    "    v2final = vector(v2prime*ax-vy2*ay,v2prime*ay+vy2*ax,0)\n",
    "    return v1final, v2final\n",
    "    \n",
    "def Fs(R):\n",
    "    return -k*(R-r*norm(R))-ball[i].m*mag(g)*norm(R)\n"
   ]
  },
  {
   "cell_type": "code",
   "execution_count": null,
   "metadata": {
    "collapsed": true
   },
   "outputs": [],
   "source": [
    "#define energy function\n",
    "def E_k(m, v):\n",
    "    return (1/2)*m*v*v\n",
    "    \n",
    "def U_g(m, h):\n",
    "    return m*mag(g)*h\n"
   ]
  },
  {
   "cell_type": "markdown",
   "metadata": {},
   "source": [
    "Pull ball up at the beginning."
   ]
  },
  {
   "cell_type": "code",
   "execution_count": null,
   "metadata": {
    "collapsed": true
   },
   "outputs": [],
   "source": [
    "#pull ball up\n",
    "for i in arange(num):\n",
    "    if i<number:\n",
    "        ball[i].pos= string[i].pos+ r*vector(sin(theta),-cos(theta),0)\n",
    "        string[i].axis= ball[i].pos-string[i].pos\n"
   ]
  },
  {
   "cell_type": "markdown",
   "metadata": {},
   "source": [
    "Below is the running loop"
   ]
  },
  {
   "cell_type": "code",
   "execution_count": null,
   "metadata": {
    "collapsed": true
   },
   "outputs": [],
   "source": [
    "#loop\n",
    "while t<12:\n",
    "    rate(10000)\n",
    "    for i in range(num):\n",
    "        string[i].axis=ball[i].pos-string[i].pos\n",
    "        ball[i].v+=(Fs(string[i].axis)/ball[i].m+g)*dt\n",
    "        ball[i].pos+=ball[i].v*dt\n",
    "    for i in range(num):\n",
    "        for j in range(i):\n",
    "            if (mag(ball[i].pos-ball[j].pos)<2*d and dot((ball[i].pos-ball[j].pos),(ball[i].v-ball[j].v))<0):\n",
    "                (ball[i].v,ball[j].v)=newcollision(ball[i].v, ball[j].v, ball[i].m, ball[j].m,ball[i].pos, ball[j].pos, 2*d)\n",
    "    for i in range(N):\n",
    "        atoms[i].pos += vatoms[i]\n",
    "    for i in range(N-1):\n",
    "        for j in range(i,N):\n",
    "            if (sqrt((atoms[i].pos.x-atoms[j].pos.x)**2 + (atoms[i].pos.y-atoms[j].pos.y)**2)) <= 2*ballsize and dot(atoms[i].pos-atoms[j].pos, vatoms[i]-vatoms[j]) < 0 :\n",
    "                vatoms[i],vatoms[j] = newcollision(vatoms[i], vatoms[j], matoms, matoms, atoms[i].pos, atoms[j].pos, 2*ballsize)\n",
    "\n",
    "    for i in range(N):\n",
    "        if atoms[i].pos.x + ballsize >= 5.7*d-0.2*d+0.01 and atoms[i].pos.x*vatoms[i].x > 0 :     \n",
    "            atoms[i].pos=vector(-15.7*d*random()+5.7*d*random(),r*random()-0.5*d*random(),0)\n",
    "            vatoms[i]=vector(2E-2*random() -2E-2*random(), 2E-2*random()-2E-2*random(), 0) \n",
    "        else if atoms[i].pos.x - ballsize <= -15.7*d+0.2*d-0.01 and atoms[i].pos.x*vatoms[i].x > 0 :    \n",
    "            atoms[i].pos=vector(-15.7*d*random()+5.7*d*random(),r*random()-0.5*d*random(),0)\n",
    "            vatoms[i]=vector(2E-2*random() -2E-2*random(), 2E-2*random()-2E-2*random(), 0)\n",
    "        else if atoms[i].pos.y + ballsize >= r+0.5*d-0.2*d+0.01 and atoms[i].pos.y*vatoms[i].y > 0 :    \n",
    "            atoms[i].pos=vector(-15.7*d*random()+5.7*d*random(),r*random()-0.5*d*random(),0)\n",
    "            vatoms[i]=vector(2E-2*random() -2E-2*random(), 2E-2*random()-2E-2*random(), 0)\n",
    "        else if atoms[i].pos.y - ballsize <= -1.2*d+0.2*d-0.01 and atoms[i].pos.y*vatoms[i].y > 0 :    \n",
    "           atoms[i].pos=vector(-15.7*d*random()+5.7*d*random(),r*random()-0.5*d*random(),0)\n",
    "           vatoms[i]=vector(2E-2*random() -2E-2*random(), 2E-2*random()-2E-2*random(), 0)\n",
    "    for i in range(num):\n",
    "        for j in range(N):\n",
    "            if (sqrt((ball[i].pos.x-atoms[j].pos.x)**2 + (ball[i].pos.y-atoms[j].pos.y)**2)) <= ballsize+d and dot(ball[i].pos-atoms[j].pos, ball[i].v-vatoms[j]) < 0 :\n",
    "                ball[i].v,vatoms[j] = newcollision(ball[i].v, vatoms[j], ball[i].m, matoms, ball[i].pos, atoms[j].pos, ballsize+d)\n",
    "    \n",
    "    #energy\n",
    "    E_k0= E_k(ball[0].m,mag(ball[0].v))\n",
    "    E_k1= E_k(ball[1].m,mag(ball[1].v))\n",
    "    U_g0= U_g(ball[0].m,ball[0].pos.y)\n",
    "    U_g1= U_g(ball[1].m,ball[1].pos.y)\n",
    "    E0= E_k0+U_g0\n",
    "    E1= E_k1+U_g1\n",
    "    Et= E0+E1\n",
    "    #plot gy\n",
    "    gy0.plot(pos=(t,ball[0].pos.y))\n",
    "    gy1.plot(pos=(t,ball[1].pos.y))\n",
    "    #plot gEk\n",
    "    gEk0.plot(pos=(t,E_k0))\n",
    "    gEk1.plot(pos=(t,E_k1))\n",
    "    #plot gUg\n",
    "    gUg0.plot(pos=(t,U_g0))\n",
    "    gUg1.plot(pos=(t,U_g1))\n",
    "    #plot gE\n",
    "    gE0.plot(pos=(t,E0))\n",
    "    gE1.plot(pos=(t,E1))\n",
    "    gEt.plot(pos=(t,Et))\n",
    "    \n",
    "    t += dt\n"
   ]
  }
 ],
 "metadata": {
  "kernelspec": {
   "display_name": "VPython",
   "language": "python",
   "name": "vpython"
  },
  "language_info": {
   "codemirror_mode": {
    "name": "ipython",
    "version": 2
   },
   "file_extension": ".py",
   "mimetype": "text/x-python",
   "name": "python",
   "nbconvert_exporter": "python",
   "pygments_lexer": "ipython2",
   "version": "2.7.13"
  }
 },
 "nbformat": 4,
 "nbformat_minor": 2
}
